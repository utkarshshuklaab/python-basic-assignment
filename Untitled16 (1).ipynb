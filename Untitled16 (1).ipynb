{
 "cells": [
  {
   "cell_type": "code",
   "execution_count": 1,
   "id": "d96a6840-bfab-4f2f-8bc6-677a25cca43a",
   "metadata": {},
   "outputs": [],
   "source": [
    " # Expalin the key featurs of python that make it a popular choice for pragramming?"
   ]
  },
  {
   "cell_type": "code",
   "execution_count": null,
   "id": "2ac4874c-da69-4284-8622-19b8cc89d7eb",
   "metadata": {},
   "outputs": [],
   "source": []
  },
  {
   "cell_type": "code",
   "execution_count": null,
   "id": "7d616e75-3282-4247-9d52-90e19ee0221a",
   "metadata": {},
   "outputs": [],
   "source": []
  }
 ],
 "metadata": {
  "kernelspec": {
   "display_name": "Python 3 (ipykernel)",
   "language": "python",
   "name": "python3"
  },
  "language_info": {
   "codemirror_mode": {
    "name": "ipython",
    "version": 3
   },
   "file_extension": ".py",
   "mimetype": "text/x-python",
   "name": "python",
   "nbconvert_exporter": "python",
   "pygments_lexer": "ipython3",
   "version": "3.12.7"
  }
 },
 "nbformat": 4,
 "nbformat_minor": 5
}
